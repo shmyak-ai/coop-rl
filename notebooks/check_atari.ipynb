{
 "cells": [
  {
   "cell_type": "code",
   "execution_count": null,
   "metadata": {},
   "outputs": [],
   "source": [
    "import itertools\n",
    "import os\n",
    "from pathlib import Path\n",
    "\n",
    "import jax\n",
    "import jax.numpy as jnp\n",
    "import optax\n",
    "import orbax.checkpoint as ocp\n",
    "\n",
    "from coop_rl import networks\n",
    "from coop_rl.agents import dqn\n",
    "from coop_rl.utils import HandlerEnvAtari"
   ]
  },
  {
   "cell_type": "code",
   "execution_count": null,
   "metadata": {},
   "outputs": [],
   "source": [
    "checkpointdir = os.path.join(Path.home(), \"coop-rl_results/jkebbemx/chkpt_step_1920000\")\n",
    "orbax_checkpointer = ocp.StandardCheckpointer()\n",
    "rng = jax.random.PRNGKey(0)  # jax.random.key(0)\n",
    "rng, init_rng = jax.random.split(rng)"
   ]
  },
  {
   "cell_type": "code",
   "execution_count": null,
   "metadata": {},
   "outputs": [],
   "source": [
    "env_name = \"ALE/Breakout-v5\"\n",
    "stack_size = 4  # >= 1, 1 - no stacking\n",
    "obs_shape, observation_dtype, num_actions = HandlerEnvAtari.check_env(env_name, stack_size)\n",
    "args_network = {\"num_actions\": num_actions}\n",
    "network = networks.NatureDQNNetwork\n",
    "optimizer = optax.adam\n",
    "args_optimizer = {\"learning_rate\": 0.001, \"eps\": 3.125e-4}"
   ]
  },
  {
   "cell_type": "code",
   "execution_count": null,
   "metadata": {},
   "outputs": [],
   "source": [
    "state = dqn.create_train_state(init_rng, network, args_network, optimizer, args_optimizer, obs_shape)\n",
    "abstract_my_tree = jax.tree_util.tree_map(ocp.utils.to_shape_dtype_struct, state)"
   ]
  },
  {
   "cell_type": "code",
   "execution_count": null,
   "metadata": {},
   "outputs": [],
   "source": [
    "state = orbax_checkpointer.restore(checkpointdir, args=ocp.args.StandardRestore(abstract_my_tree))"
   ]
  },
  {
   "cell_type": "code",
   "execution_count": null,
   "metadata": {},
   "outputs": [],
   "source": [
    "jax.tree.map(lambda x: x.shape, state.params)"
   ]
  },
  {
   "cell_type": "code",
   "execution_count": null,
   "metadata": {},
   "outputs": [],
   "source": [
    "# environment make and close need to be called within one block\n",
    "# for atari environments in vscode it does not help\n",
    "\n",
    "env = HandlerEnvAtari(\"ALE/Breakout-v5\", stack_size=stack_size, render_mode=\"human\")\n",
    "\n",
    "print(f\"Action space shape: {env.action_space.shape}.\")\n",
    "print(f\"Observation space shape: {env.observation_space.shape}.\")\n",
    "print(f\"Reward range: {env.reward_range}.\")\n",
    "\n",
    "rewards = 0\n",
    "actions = []\n",
    "observation, info = env.reset()\n",
    "for step in itertools.count(start=1, step=1):\n",
    "    observation = observation[None, :]\n",
    "    action = jnp.argmax(state.apply_fn({\"params\": state.params}, x=observation).q_values)\n",
    "    observation, reward, terminated, truncated, info = env.step(action)\n",
    "    rewards += reward\n",
    "    actions.append(int(action))\n",
    "\n",
    "    if terminated or truncated:\n",
    "        print(f\"Total steps: {step}.\")\n",
    "        print(f\"Rewards: {rewards}\")\n",
    "        print(f\"Actions number: {len(actions)}\")\n",
    "        print(f\"Actions: {actions}\")\n",
    "        break\n",
    "\n",
    "env.close()"
   ]
  },
  {
   "cell_type": "code",
   "execution_count": null,
   "metadata": {},
   "outputs": [],
   "source": []
  }
 ],
 "metadata": {
  "kernelspec": {
   "display_name": "blooms-ml",
   "language": "python",
   "name": "python3"
  },
  "language_info": {
   "codemirror_mode": {
    "name": "ipython",
    "version": 3
   },
   "file_extension": ".py",
   "mimetype": "text/x-python",
   "name": "python",
   "nbconvert_exporter": "python",
   "pygments_lexer": "ipython3",
   "version": "3.11.9"
  }
 },
 "nbformat": 4,
 "nbformat_minor": 2
}

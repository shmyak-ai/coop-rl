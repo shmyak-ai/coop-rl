{
 "cells": [
  {
   "cell_type": "code",
   "execution_count": null,
   "metadata": {},
   "outputs": [],
   "source": [
    "import itertools\n",
    "import os\n",
    "from pathlib import Path\n",
    "\n",
    "import jax\n",
    "import numpy as np\n",
    "\n",
    "from coop_rl.configs.atari_mdqn import get_config\n",
    "from coop_rl.environment import HandlerEnvAtari\n",
    "from coop_rl.workers.collectors import get_select_action_fn"
   ]
  },
  {
   "cell_type": "code",
   "execution_count": 2,
   "metadata": {},
   "outputs": [],
   "source": [
    "conf = get_config()"
   ]
  },
  {
   "cell_type": "code",
   "execution_count": null,
   "metadata": {},
   "outputs": [],
   "source": [
    "conf.observation_shape, conf.observation_dtype, conf.num_actions = conf.args_collector.env.check_env(\n",
    "    conf.args_env.env_name, conf.args_env.stack_size\n",
    ")"
   ]
  },
  {
   "cell_type": "code",
   "execution_count": 4,
   "metadata": {},
   "outputs": [],
   "source": [
    "conf.args_state_recover.checkpointdir = os.path.join(\n",
    "    Path.home(), \"/home/sia/coop-rl_results/s4gg8ou_/chkpt_train_step_4580000\"\n",
    ")\n",
    "rng = jax.random.PRNGKey(73)\n",
    "rng, _rng = jax.random.split(rng)\n",
    "flax_state = conf.state_recover(_rng, **conf.args_state_recover)\n",
    "select_action = get_select_action_fn(flax_state.apply_fn)"
   ]
  },
  {
   "cell_type": "code",
   "execution_count": null,
   "metadata": {},
   "outputs": [],
   "source": [
    "# environment make and close need to be called within one block\n",
    "# for atari environments in vscode it does not help\n",
    "\n",
    "env = HandlerEnvAtari(conf.args_env.env_name, stack_size=conf.args_env.stack_size, render_mode=\"human\")\n",
    "\n",
    "print(f\"Action space shape: {env.action_space.shape}.\")\n",
    "print(f\"Observation space shape: {env.observation_space.shape}.\")\n",
    "\n",
    "rewards = 0\n",
    "actions = []\n",
    "observation, info = env.reset()\n",
    "for step in itertools.count(start=1, step=1):\n",
    "    observation = observation[None, :]\n",
    "    rng, action_jnp = select_action(rng, flax_state.params, observation)\n",
    "    action_np = np.asarray(action_jnp, dtype=np.int32).squeeze()\n",
    "    observation, reward, terminated, truncated, info = env.step(action_np)\n",
    "    rewards += reward\n",
    "    actions.append(int(action_np))\n",
    "\n",
    "    if terminated or truncated:\n",
    "        print(f\"Total steps: {step}.\")\n",
    "        print(f\"Rewards: {rewards}\")\n",
    "        print(f\"Actions number: {len(actions)}\")\n",
    "        print(f\"Actions: {actions}\")\n",
    "        break\n",
    "\n",
    "env.close()"
   ]
  },
  {
   "cell_type": "code",
   "execution_count": null,
   "metadata": {},
   "outputs": [],
   "source": []
  }
 ],
 "metadata": {
  "kernelspec": {
   "display_name": "coop-rl",
   "language": "python",
   "name": "python3"
  },
  "language_info": {
   "codemirror_mode": {
    "name": "ipython",
    "version": 3
   },
   "file_extension": ".py",
   "mimetype": "text/x-python",
   "name": "python",
   "nbconvert_exporter": "python",
   "pygments_lexer": "ipython3",
   "version": "3.11.11"
  }
 },
 "nbformat": 4,
 "nbformat_minor": 2
}
